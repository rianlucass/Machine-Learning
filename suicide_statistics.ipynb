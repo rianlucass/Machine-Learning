{
 "cells": [
  {
   "cell_type": "code",
   "execution_count": 7,
   "id": "966948c6-e65f-46a6-bbdd-7fbe05998118",
   "metadata": {},
   "outputs": [],
   "source": [
    "import numpy as np\n",
    "import pandas as pd\n",
    "import matplotlib.pyplot as plt"
   ]
  },
  {
   "cell_type": "code",
   "execution_count": 10,
   "id": "d53108e0-e591-4662-be49-9ac7cca81868",
   "metadata": {},
   "outputs": [],
   "source": [
    "suicide_statistic = pd.read_csv('dados/who_suicide_statistics.csv')"
   ]
  },
  {
   "cell_type": "code",
   "execution_count": 35,
   "id": "41976254-7570-4dea-b48b-2e471d2297ad",
   "metadata": {},
   "outputs": [
    {
     "data": {
      "text/html": [
       "<div>\n",
       "<style scoped>\n",
       "    .dataframe tbody tr th:only-of-type {\n",
       "        vertical-align: middle;\n",
       "    }\n",
       "\n",
       "    .dataframe tbody tr th {\n",
       "        vertical-align: top;\n",
       "    }\n",
       "\n",
       "    .dataframe thead th {\n",
       "        text-align: right;\n",
       "    }\n",
       "</style>\n",
       "<table border=\"1\" class=\"dataframe\">\n",
       "  <thead>\n",
       "    <tr style=\"text-align: right;\">\n",
       "      <th></th>\n",
       "      <th>country</th>\n",
       "      <th>year</th>\n",
       "      <th>sex</th>\n",
       "      <th>age</th>\n",
       "      <th>suicides_no</th>\n",
       "      <th>population</th>\n",
       "    </tr>\n",
       "  </thead>\n",
       "  <tbody>\n",
       "    <tr>\n",
       "      <th>0</th>\n",
       "      <td>Albania</td>\n",
       "      <td>1985</td>\n",
       "      <td>female</td>\n",
       "      <td>15-24 years</td>\n",
       "      <td>193.31539</td>\n",
       "      <td>277900.0</td>\n",
       "    </tr>\n",
       "    <tr>\n",
       "      <th>1</th>\n",
       "      <td>Albania</td>\n",
       "      <td>1985</td>\n",
       "      <td>female</td>\n",
       "      <td>25-34 years</td>\n",
       "      <td>193.31539</td>\n",
       "      <td>246800.0</td>\n",
       "    </tr>\n",
       "    <tr>\n",
       "      <th>2</th>\n",
       "      <td>Albania</td>\n",
       "      <td>1985</td>\n",
       "      <td>female</td>\n",
       "      <td>35-54 years</td>\n",
       "      <td>193.31539</td>\n",
       "      <td>267500.0</td>\n",
       "    </tr>\n",
       "    <tr>\n",
       "      <th>3</th>\n",
       "      <td>Albania</td>\n",
       "      <td>1985</td>\n",
       "      <td>female</td>\n",
       "      <td>5-14 years</td>\n",
       "      <td>193.31539</td>\n",
       "      <td>298300.0</td>\n",
       "    </tr>\n",
       "    <tr>\n",
       "      <th>4</th>\n",
       "      <td>Albania</td>\n",
       "      <td>1985</td>\n",
       "      <td>female</td>\n",
       "      <td>55-74 years</td>\n",
       "      <td>193.31539</td>\n",
       "      <td>138700.0</td>\n",
       "    </tr>\n",
       "    <tr>\n",
       "      <th>5</th>\n",
       "      <td>Albania</td>\n",
       "      <td>1985</td>\n",
       "      <td>female</td>\n",
       "      <td>75+ years</td>\n",
       "      <td>193.31539</td>\n",
       "      <td>34200.0</td>\n",
       "    </tr>\n",
       "    <tr>\n",
       "      <th>6</th>\n",
       "      <td>Albania</td>\n",
       "      <td>1985</td>\n",
       "      <td>male</td>\n",
       "      <td>15-24 years</td>\n",
       "      <td>193.31539</td>\n",
       "      <td>301400.0</td>\n",
       "    </tr>\n",
       "    <tr>\n",
       "      <th>7</th>\n",
       "      <td>Albania</td>\n",
       "      <td>1985</td>\n",
       "      <td>male</td>\n",
       "      <td>25-34 years</td>\n",
       "      <td>193.31539</td>\n",
       "      <td>264200.0</td>\n",
       "    </tr>\n",
       "    <tr>\n",
       "      <th>8</th>\n",
       "      <td>Albania</td>\n",
       "      <td>1985</td>\n",
       "      <td>male</td>\n",
       "      <td>35-54 years</td>\n",
       "      <td>193.31539</td>\n",
       "      <td>296700.0</td>\n",
       "    </tr>\n",
       "    <tr>\n",
       "      <th>9</th>\n",
       "      <td>Albania</td>\n",
       "      <td>1985</td>\n",
       "      <td>male</td>\n",
       "      <td>5-14 years</td>\n",
       "      <td>193.31539</td>\n",
       "      <td>325800.0</td>\n",
       "    </tr>\n",
       "  </tbody>\n",
       "</table>\n",
       "</div>"
      ],
      "text/plain": [
       "   country  year     sex          age  suicides_no  population\n",
       "0  Albania  1985  female  15-24 years    193.31539    277900.0\n",
       "1  Albania  1985  female  25-34 years    193.31539    246800.0\n",
       "2  Albania  1985  female  35-54 years    193.31539    267500.0\n",
       "3  Albania  1985  female   5-14 years    193.31539    298300.0\n",
       "4  Albania  1985  female  55-74 years    193.31539    138700.0\n",
       "5  Albania  1985  female    75+ years    193.31539     34200.0\n",
       "6  Albania  1985    male  15-24 years    193.31539    301400.0\n",
       "7  Albania  1985    male  25-34 years    193.31539    264200.0\n",
       "8  Albania  1985    male  35-54 years    193.31539    296700.0\n",
       "9  Albania  1985    male   5-14 years    193.31539    325800.0"
      ]
     },
     "execution_count": 35,
     "metadata": {},
     "output_type": "execute_result"
    }
   ],
   "source": [
    "suicide_statistic.head(10)"
   ]
  },
  {
   "cell_type": "code",
   "execution_count": 12,
   "id": "6d68b785-963a-4694-8f61-f1fd5d466eee",
   "metadata": {},
   "outputs": [
    {
     "data": {
      "text/plain": [
       "country           0\n",
       "year              0\n",
       "sex               0\n",
       "age               0\n",
       "suicides_no    2256\n",
       "population     5460\n",
       "dtype: int64"
      ]
     },
     "execution_count": 12,
     "metadata": {},
     "output_type": "execute_result"
    }
   ],
   "source": [
    "suicide_statistic.isnull().sum()"
   ]
  },
  {
   "cell_type": "code",
   "execution_count": 14,
   "id": "8b221eb0-f0cc-451d-a5d1-de9749470a94",
   "metadata": {},
   "outputs": [
    {
     "data": {
      "text/plain": [
       "country         0.000000\n",
       "year            0.000000\n",
       "sex             0.000000\n",
       "age             0.000000\n",
       "suicides_no     5.153509\n",
       "population     12.472588\n",
       "dtype: float64"
      ]
     },
     "execution_count": 14,
     "metadata": {},
     "output_type": "execute_result"
    }
   ],
   "source": [
    "(suicide_statistic.isnull().sum() / len(suicide_statistic)) * 100"
   ]
  },
  {
   "cell_type": "code",
   "execution_count": 15,
   "id": "f89f9c8b-f175-4587-89b1-f3ff57b1ba22",
   "metadata": {},
   "outputs": [
    {
     "name": "stdout",
     "output_type": "stream",
     "text": [
      "   country  year     sex          age  suicides_no  population\n",
      "0  Albania  1985  female  15-24 years          NaN    277900.0\n",
      "1  Albania  1985  female  25-34 years          NaN    246800.0\n",
      "2  Albania  1985  female  35-54 years          NaN    267500.0\n",
      "3  Albania  1985  female   5-14 years          NaN    298300.0\n",
      "4  Albania  1985  female  55-74 years          NaN    138700.0\n",
      "5  Albania  1985  female    75+ years          NaN     34200.0\n",
      "6  Albania  1985    male  15-24 years          NaN    301400.0\n",
      "7  Albania  1985    male  25-34 years          NaN    264200.0\n",
      "8  Albania  1985    male  35-54 years          NaN    296700.0\n",
      "9  Albania  1985    male   5-14 years          NaN    325800.0\n"
     ]
    }
   ],
   "source": [
    "print(suicide_statistic[suicide_statistic.isnull().any(axis=1)].head(10))"
   ]
  },
  {
   "cell_type": "code",
   "execution_count": 16,
   "id": "24cb4c10-3f90-4c7a-8461-ab67be004e02",
   "metadata": {},
   "outputs": [
    {
     "data": {
      "text/plain": [
       "43776"
      ]
     },
     "execution_count": 16,
     "metadata": {},
     "output_type": "execute_result"
    }
   ],
   "source": [
    "len(suicide_statistic)"
   ]
  },
  {
   "cell_type": "code",
   "execution_count": 17,
   "id": "1f645001-8a07-41e8-94f6-8d4c6a601b75",
   "metadata": {},
   "outputs": [
    {
     "name": "stdout",
     "output_type": "stream",
     "text": [
      "Valores nulos absolutos:\n",
      "country           0\n",
      "year              0\n",
      "sex               0\n",
      "age               0\n",
      "suicides_no    2256\n",
      "population     5460\n",
      "dtype: int64\n",
      "\n",
      "Percentual de valores nulos:\n",
      "country         0.000000\n",
      "year            0.000000\n",
      "sex             0.000000\n",
      "age             0.000000\n",
      "suicides_no     5.153509\n",
      "population     12.472588\n",
      "dtype: float64\n"
     ]
    }
   ],
   "source": [
    "nulos = suicide_statistic.isnull().sum()\n",
    "total = len(suicide_statistic)\n",
    "percentuais = (nulos / total) * 100\n",
    "\n",
    "print(\"Valores nulos absolutos:\")\n",
    "print(nulos)\n",
    "print(\"\\nPercentual de valores nulos:\")\n",
    "print(percentuais)\n"
   ]
  },
  {
   "cell_type": "code",
   "execution_count": 19,
   "id": "a68defc2-3052-46f1-8ef8-3e1400fcb05c",
   "metadata": {},
   "outputs": [],
   "source": [
    "suicide_statistic['suicides_no'] = suicide_statistic['suicides_no'].fillna(suicide_statistic['suicides_no'].mean())"
   ]
  },
  {
   "cell_type": "code",
   "execution_count": 21,
   "id": "e30f89bb-3b5b-4364-8548-b757062d14f7",
   "metadata": {},
   "outputs": [
    {
     "data": {
      "text/html": [
       "<div>\n",
       "<style scoped>\n",
       "    .dataframe tbody tr th:only-of-type {\n",
       "        vertical-align: middle;\n",
       "    }\n",
       "\n",
       "    .dataframe tbody tr th {\n",
       "        vertical-align: top;\n",
       "    }\n",
       "\n",
       "    .dataframe thead th {\n",
       "        text-align: right;\n",
       "    }\n",
       "</style>\n",
       "<table border=\"1\" class=\"dataframe\">\n",
       "  <thead>\n",
       "    <tr style=\"text-align: right;\">\n",
       "      <th></th>\n",
       "      <th>country</th>\n",
       "      <th>year</th>\n",
       "      <th>sex</th>\n",
       "      <th>age</th>\n",
       "      <th>suicides_no</th>\n",
       "      <th>population</th>\n",
       "    </tr>\n",
       "  </thead>\n",
       "  <tbody>\n",
       "    <tr>\n",
       "      <th>0</th>\n",
       "      <td>Albania</td>\n",
       "      <td>1985</td>\n",
       "      <td>female</td>\n",
       "      <td>15-24 years</td>\n",
       "      <td>193.31539</td>\n",
       "      <td>277900.0</td>\n",
       "    </tr>\n",
       "    <tr>\n",
       "      <th>1</th>\n",
       "      <td>Albania</td>\n",
       "      <td>1985</td>\n",
       "      <td>female</td>\n",
       "      <td>25-34 years</td>\n",
       "      <td>193.31539</td>\n",
       "      <td>246800.0</td>\n",
       "    </tr>\n",
       "    <tr>\n",
       "      <th>2</th>\n",
       "      <td>Albania</td>\n",
       "      <td>1985</td>\n",
       "      <td>female</td>\n",
       "      <td>35-54 years</td>\n",
       "      <td>193.31539</td>\n",
       "      <td>267500.0</td>\n",
       "    </tr>\n",
       "    <tr>\n",
       "      <th>3</th>\n",
       "      <td>Albania</td>\n",
       "      <td>1985</td>\n",
       "      <td>female</td>\n",
       "      <td>5-14 years</td>\n",
       "      <td>193.31539</td>\n",
       "      <td>298300.0</td>\n",
       "    </tr>\n",
       "    <tr>\n",
       "      <th>4</th>\n",
       "      <td>Albania</td>\n",
       "      <td>1985</td>\n",
       "      <td>female</td>\n",
       "      <td>55-74 years</td>\n",
       "      <td>193.31539</td>\n",
       "      <td>138700.0</td>\n",
       "    </tr>\n",
       "    <tr>\n",
       "      <th>5</th>\n",
       "      <td>Albania</td>\n",
       "      <td>1985</td>\n",
       "      <td>female</td>\n",
       "      <td>75+ years</td>\n",
       "      <td>193.31539</td>\n",
       "      <td>34200.0</td>\n",
       "    </tr>\n",
       "    <tr>\n",
       "      <th>6</th>\n",
       "      <td>Albania</td>\n",
       "      <td>1985</td>\n",
       "      <td>male</td>\n",
       "      <td>15-24 years</td>\n",
       "      <td>193.31539</td>\n",
       "      <td>301400.0</td>\n",
       "    </tr>\n",
       "    <tr>\n",
       "      <th>7</th>\n",
       "      <td>Albania</td>\n",
       "      <td>1985</td>\n",
       "      <td>male</td>\n",
       "      <td>25-34 years</td>\n",
       "      <td>193.31539</td>\n",
       "      <td>264200.0</td>\n",
       "    </tr>\n",
       "    <tr>\n",
       "      <th>8</th>\n",
       "      <td>Albania</td>\n",
       "      <td>1985</td>\n",
       "      <td>male</td>\n",
       "      <td>35-54 years</td>\n",
       "      <td>193.31539</td>\n",
       "      <td>296700.0</td>\n",
       "    </tr>\n",
       "    <tr>\n",
       "      <th>9</th>\n",
       "      <td>Albania</td>\n",
       "      <td>1985</td>\n",
       "      <td>male</td>\n",
       "      <td>5-14 years</td>\n",
       "      <td>193.31539</td>\n",
       "      <td>325800.0</td>\n",
       "    </tr>\n",
       "  </tbody>\n",
       "</table>\n",
       "</div>"
      ],
      "text/plain": [
       "   country  year     sex          age  suicides_no  population\n",
       "0  Albania  1985  female  15-24 years    193.31539    277900.0\n",
       "1  Albania  1985  female  25-34 years    193.31539    246800.0\n",
       "2  Albania  1985  female  35-54 years    193.31539    267500.0\n",
       "3  Albania  1985  female   5-14 years    193.31539    298300.0\n",
       "4  Albania  1985  female  55-74 years    193.31539    138700.0\n",
       "5  Albania  1985  female    75+ years    193.31539     34200.0\n",
       "6  Albania  1985    male  15-24 years    193.31539    301400.0\n",
       "7  Albania  1985    male  25-34 years    193.31539    264200.0\n",
       "8  Albania  1985    male  35-54 years    193.31539    296700.0\n",
       "9  Albania  1985    male   5-14 years    193.31539    325800.0"
      ]
     },
     "execution_count": 21,
     "metadata": {},
     "output_type": "execute_result"
    }
   ],
   "source": [
    "suicide_statistic.head(10)"
   ]
  },
  {
   "cell_type": "code",
   "execution_count": 26,
   "id": "20ee634d-9588-43d1-8917-c73ede2c16d8",
   "metadata": {},
   "outputs": [],
   "source": [
    "suicide_statistic['population'] = suicide_statistic.groupby(\n",
    "    ['country', 'year', 'age', 'sex']\n",
    ")['population'].transform(lambda x: x.fillna(x.mean()))"
   ]
  },
  {
   "cell_type": "code",
   "execution_count": 36,
   "id": "87c1d6ec-b433-4ad7-b615-ee1f9eb1c405",
   "metadata": {},
   "outputs": [
    {
     "data": {
      "text/plain": [
       "country           0\n",
       "year              0\n",
       "sex               0\n",
       "age               0\n",
       "suicides_no       0\n",
       "population     5460\n",
       "dtype: int64"
      ]
     },
     "execution_count": 36,
     "metadata": {},
     "output_type": "execute_result"
    }
   ],
   "source": [
    "suicide_statistic.isnull().sum()"
   ]
  },
  {
   "cell_type": "code",
   "execution_count": 37,
   "id": "59d92a26-a1ab-41fd-b1f8-345540e754e3",
   "metadata": {},
   "outputs": [
    {
     "name": "stdout",
     "output_type": "stream",
     "text": [
      "(43776, 6)\n"
     ]
    }
   ],
   "source": [
    "print(suicide_statistic.shape)"
   ]
  },
  {
   "cell_type": "code",
   "execution_count": null,
   "id": "37d0c504-1f51-4ea0-8e21-0331e7a51903",
   "metadata": {},
   "outputs": [],
   "source": []
  }
 ],
 "metadata": {
  "kernelspec": {
   "display_name": "Python 3 (ipykernel)",
   "language": "python",
   "name": "python3"
  },
  "language_info": {
   "codemirror_mode": {
    "name": "ipython",
    "version": 3
   },
   "file_extension": ".py",
   "mimetype": "text/x-python",
   "name": "python",
   "nbconvert_exporter": "python",
   "pygments_lexer": "ipython3",
   "version": "3.12.4"
  }
 },
 "nbformat": 4,
 "nbformat_minor": 5
}
