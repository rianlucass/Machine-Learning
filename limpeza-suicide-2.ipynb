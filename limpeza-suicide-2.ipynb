{
 "cells": [
  {
   "cell_type": "code",
   "execution_count": 1,
   "id": "61976990-a49c-4ff9-8abc-5d4942af2dfd",
   "metadata": {},
   "outputs": [],
   "source": [
    "import numpy as np\n",
    "import pandas as pd\n",
    "import matplotlib.pyplot as plt"
   ]
  },
  {
   "cell_type": "code",
   "execution_count": 2,
   "id": "16525b54-bd03-4a53-a130-630c841e99ae",
   "metadata": {},
   "outputs": [],
   "source": [
    "suicide_statistic = pd.read_csv('dados/who_suicide_statistics.csv')"
   ]
  },
  {
   "cell_type": "code",
   "execution_count": 3,
   "id": "85547247-5a51-4ec3-8633-e0809f77770f",
   "metadata": {},
   "outputs": [
    {
     "data": {
      "text/html": [
       "<div>\n",
       "<style scoped>\n",
       "    .dataframe tbody tr th:only-of-type {\n",
       "        vertical-align: middle;\n",
       "    }\n",
       "\n",
       "    .dataframe tbody tr th {\n",
       "        vertical-align: top;\n",
       "    }\n",
       "\n",
       "    .dataframe thead th {\n",
       "        text-align: right;\n",
       "    }\n",
       "</style>\n",
       "<table border=\"1\" class=\"dataframe\">\n",
       "  <thead>\n",
       "    <tr style=\"text-align: right;\">\n",
       "      <th></th>\n",
       "      <th>country</th>\n",
       "      <th>year</th>\n",
       "      <th>sex</th>\n",
       "      <th>age</th>\n",
       "      <th>suicides_no</th>\n",
       "      <th>population</th>\n",
       "    </tr>\n",
       "  </thead>\n",
       "  <tbody>\n",
       "    <tr>\n",
       "      <th>0</th>\n",
       "      <td>Albania</td>\n",
       "      <td>1985</td>\n",
       "      <td>female</td>\n",
       "      <td>15-24 years</td>\n",
       "      <td>NaN</td>\n",
       "      <td>277900.0</td>\n",
       "    </tr>\n",
       "    <tr>\n",
       "      <th>1</th>\n",
       "      <td>Albania</td>\n",
       "      <td>1985</td>\n",
       "      <td>female</td>\n",
       "      <td>25-34 years</td>\n",
       "      <td>NaN</td>\n",
       "      <td>246800.0</td>\n",
       "    </tr>\n",
       "    <tr>\n",
       "      <th>2</th>\n",
       "      <td>Albania</td>\n",
       "      <td>1985</td>\n",
       "      <td>female</td>\n",
       "      <td>35-54 years</td>\n",
       "      <td>NaN</td>\n",
       "      <td>267500.0</td>\n",
       "    </tr>\n",
       "    <tr>\n",
       "      <th>3</th>\n",
       "      <td>Albania</td>\n",
       "      <td>1985</td>\n",
       "      <td>female</td>\n",
       "      <td>5-14 years</td>\n",
       "      <td>NaN</td>\n",
       "      <td>298300.0</td>\n",
       "    </tr>\n",
       "    <tr>\n",
       "      <th>4</th>\n",
       "      <td>Albania</td>\n",
       "      <td>1985</td>\n",
       "      <td>female</td>\n",
       "      <td>55-74 years</td>\n",
       "      <td>NaN</td>\n",
       "      <td>138700.0</td>\n",
       "    </tr>\n",
       "    <tr>\n",
       "      <th>5</th>\n",
       "      <td>Albania</td>\n",
       "      <td>1985</td>\n",
       "      <td>female</td>\n",
       "      <td>75+ years</td>\n",
       "      <td>NaN</td>\n",
       "      <td>34200.0</td>\n",
       "    </tr>\n",
       "    <tr>\n",
       "      <th>6</th>\n",
       "      <td>Albania</td>\n",
       "      <td>1985</td>\n",
       "      <td>male</td>\n",
       "      <td>15-24 years</td>\n",
       "      <td>NaN</td>\n",
       "      <td>301400.0</td>\n",
       "    </tr>\n",
       "    <tr>\n",
       "      <th>7</th>\n",
       "      <td>Albania</td>\n",
       "      <td>1985</td>\n",
       "      <td>male</td>\n",
       "      <td>25-34 years</td>\n",
       "      <td>NaN</td>\n",
       "      <td>264200.0</td>\n",
       "    </tr>\n",
       "    <tr>\n",
       "      <th>8</th>\n",
       "      <td>Albania</td>\n",
       "      <td>1985</td>\n",
       "      <td>male</td>\n",
       "      <td>35-54 years</td>\n",
       "      <td>NaN</td>\n",
       "      <td>296700.0</td>\n",
       "    </tr>\n",
       "    <tr>\n",
       "      <th>9</th>\n",
       "      <td>Albania</td>\n",
       "      <td>1985</td>\n",
       "      <td>male</td>\n",
       "      <td>5-14 years</td>\n",
       "      <td>NaN</td>\n",
       "      <td>325800.0</td>\n",
       "    </tr>\n",
       "  </tbody>\n",
       "</table>\n",
       "</div>"
      ],
      "text/plain": [
       "   country  year     sex          age  suicides_no  population\n",
       "0  Albania  1985  female  15-24 years          NaN    277900.0\n",
       "1  Albania  1985  female  25-34 years          NaN    246800.0\n",
       "2  Albania  1985  female  35-54 years          NaN    267500.0\n",
       "3  Albania  1985  female   5-14 years          NaN    298300.0\n",
       "4  Albania  1985  female  55-74 years          NaN    138700.0\n",
       "5  Albania  1985  female    75+ years          NaN     34200.0\n",
       "6  Albania  1985    male  15-24 years          NaN    301400.0\n",
       "7  Albania  1985    male  25-34 years          NaN    264200.0\n",
       "8  Albania  1985    male  35-54 years          NaN    296700.0\n",
       "9  Albania  1985    male   5-14 years          NaN    325800.0"
      ]
     },
     "execution_count": 3,
     "metadata": {},
     "output_type": "execute_result"
    }
   ],
   "source": [
    "suicide_statistic.head(10)"
   ]
  },
  {
   "cell_type": "code",
   "execution_count": 4,
   "id": "4df70130-75ea-4f4f-9454-df5d22e30820",
   "metadata": {},
   "outputs": [
    {
     "data": {
      "text/plain": [
       "country           0\n",
       "year              0\n",
       "sex               0\n",
       "age               0\n",
       "suicides_no    2256\n",
       "population     5460\n",
       "dtype: int64"
      ]
     },
     "execution_count": 4,
     "metadata": {},
     "output_type": "execute_result"
    }
   ],
   "source": [
    "suicide_statistic.isnull().sum()"
   ]
  },
  {
   "cell_type": "code",
   "execution_count": 6,
   "id": "a6b611fb-c724-471d-bbf4-29e64ff4760e",
   "metadata": {},
   "outputs": [],
   "source": [
    "suicide_statistic['population'] = suicide_statistic.groupby(['country', 'sex', 'age'])['population'].transform(\n",
    "    lambda x: x.fillna(x.mean())\n",
    ")"
   ]
  },
  {
   "cell_type": "code",
   "execution_count": 7,
   "id": "d6737397-d76f-4774-afcc-9ebbe822c60e",
   "metadata": {},
   "outputs": [
    {
     "data": {
      "text/plain": [
       "3768"
      ]
     },
     "execution_count": 7,
     "metadata": {},
     "output_type": "execute_result"
    }
   ],
   "source": [
    "suicide_statistic['population'].isnull().sum()"
   ]
  },
  {
   "cell_type": "code",
   "execution_count": 8,
   "id": "b4279dc9-52de-4aa2-9a07-10580195472a",
   "metadata": {},
   "outputs": [],
   "source": [
    "suicide_statistic['suicides_no'] = suicide_statistic.groupby(['country', 'sex', 'age'])['suicides_no'].transform(\n",
    "    lambda x: x.fillna(x.mean())\n",
    ")"
   ]
  },
  {
   "cell_type": "code",
   "execution_count": 9,
   "id": "cac938ea-ffc1-48c0-a6e6-fac231ef1331",
   "metadata": {},
   "outputs": [
    {
     "data": {
      "text/plain": [
       "0"
      ]
     },
     "execution_count": 9,
     "metadata": {},
     "output_type": "execute_result"
    }
   ],
   "source": [
    "suicide_statistic['suicides_no'].isnull().sum()"
   ]
  },
  {
   "cell_type": "code",
   "execution_count": 10,
   "id": "e5344470-a09f-4bc7-8455-8523ddcb62ef",
   "metadata": {},
   "outputs": [
    {
     "data": {
      "text/html": [
       "<div>\n",
       "<style scoped>\n",
       "    .dataframe tbody tr th:only-of-type {\n",
       "        vertical-align: middle;\n",
       "    }\n",
       "\n",
       "    .dataframe tbody tr th {\n",
       "        vertical-align: top;\n",
       "    }\n",
       "\n",
       "    .dataframe thead th {\n",
       "        text-align: right;\n",
       "    }\n",
       "</style>\n",
       "<table border=\"1\" class=\"dataframe\">\n",
       "  <thead>\n",
       "    <tr style=\"text-align: right;\">\n",
       "      <th></th>\n",
       "      <th>country</th>\n",
       "      <th>year</th>\n",
       "      <th>sex</th>\n",
       "      <th>age</th>\n",
       "      <th>suicides_no</th>\n",
       "      <th>population</th>\n",
       "    </tr>\n",
       "  </thead>\n",
       "  <tbody>\n",
       "    <tr>\n",
       "      <th>0</th>\n",
       "      <td>Albania</td>\n",
       "      <td>1985</td>\n",
       "      <td>female</td>\n",
       "      <td>15-24 years</td>\n",
       "      <td>11.500000</td>\n",
       "      <td>277900.0</td>\n",
       "    </tr>\n",
       "    <tr>\n",
       "      <th>1</th>\n",
       "      <td>Albania</td>\n",
       "      <td>1985</td>\n",
       "      <td>female</td>\n",
       "      <td>25-34 years</td>\n",
       "      <td>6.318182</td>\n",
       "      <td>246800.0</td>\n",
       "    </tr>\n",
       "    <tr>\n",
       "      <th>2</th>\n",
       "      <td>Albania</td>\n",
       "      <td>1985</td>\n",
       "      <td>female</td>\n",
       "      <td>35-54 years</td>\n",
       "      <td>7.863636</td>\n",
       "      <td>267500.0</td>\n",
       "    </tr>\n",
       "    <tr>\n",
       "      <th>3</th>\n",
       "      <td>Albania</td>\n",
       "      <td>1985</td>\n",
       "      <td>female</td>\n",
       "      <td>5-14 years</td>\n",
       "      <td>0.954545</td>\n",
       "      <td>298300.0</td>\n",
       "    </tr>\n",
       "    <tr>\n",
       "      <th>4</th>\n",
       "      <td>Albania</td>\n",
       "      <td>1985</td>\n",
       "      <td>female</td>\n",
       "      <td>55-74 years</td>\n",
       "      <td>3.090909</td>\n",
       "      <td>138700.0</td>\n",
       "    </tr>\n",
       "    <tr>\n",
       "      <th>...</th>\n",
       "      <td>...</td>\n",
       "      <td>...</td>\n",
       "      <td>...</td>\n",
       "      <td>...</td>\n",
       "      <td>...</td>\n",
       "      <td>...</td>\n",
       "    </tr>\n",
       "    <tr>\n",
       "      <th>95</th>\n",
       "      <td>Albania</td>\n",
       "      <td>1992</td>\n",
       "      <td>male</td>\n",
       "      <td>75+ years</td>\n",
       "      <td>0.000000</td>\n",
       "      <td>23900.0</td>\n",
       "    </tr>\n",
       "    <tr>\n",
       "      <th>96</th>\n",
       "      <td>Albania</td>\n",
       "      <td>1993</td>\n",
       "      <td>female</td>\n",
       "      <td>15-24 years</td>\n",
       "      <td>10.000000</td>\n",
       "      <td>285300.0</td>\n",
       "    </tr>\n",
       "    <tr>\n",
       "      <th>97</th>\n",
       "      <td>Albania</td>\n",
       "      <td>1993</td>\n",
       "      <td>female</td>\n",
       "      <td>25-34 years</td>\n",
       "      <td>7.000000</td>\n",
       "      <td>261800.0</td>\n",
       "    </tr>\n",
       "    <tr>\n",
       "      <th>98</th>\n",
       "      <td>Albania</td>\n",
       "      <td>1993</td>\n",
       "      <td>female</td>\n",
       "      <td>35-54 years</td>\n",
       "      <td>7.000000</td>\n",
       "      <td>331200.0</td>\n",
       "    </tr>\n",
       "    <tr>\n",
       "      <th>99</th>\n",
       "      <td>Albania</td>\n",
       "      <td>1993</td>\n",
       "      <td>female</td>\n",
       "      <td>5-14 years</td>\n",
       "      <td>1.000000</td>\n",
       "      <td>340300.0</td>\n",
       "    </tr>\n",
       "  </tbody>\n",
       "</table>\n",
       "<p>100 rows × 6 columns</p>\n",
       "</div>"
      ],
      "text/plain": [
       "    country  year     sex          age  suicides_no  population\n",
       "0   Albania  1985  female  15-24 years    11.500000    277900.0\n",
       "1   Albania  1985  female  25-34 years     6.318182    246800.0\n",
       "2   Albania  1985  female  35-54 years     7.863636    267500.0\n",
       "3   Albania  1985  female   5-14 years     0.954545    298300.0\n",
       "4   Albania  1985  female  55-74 years     3.090909    138700.0\n",
       "..      ...   ...     ...          ...          ...         ...\n",
       "95  Albania  1992    male    75+ years     0.000000     23900.0\n",
       "96  Albania  1993  female  15-24 years    10.000000    285300.0\n",
       "97  Albania  1993  female  25-34 years     7.000000    261800.0\n",
       "98  Albania  1993  female  35-54 years     7.000000    331200.0\n",
       "99  Albania  1993  female   5-14 years     1.000000    340300.0\n",
       "\n",
       "[100 rows x 6 columns]"
      ]
     },
     "execution_count": 10,
     "metadata": {},
     "output_type": "execute_result"
    }
   ],
   "source": [
    "suicide_statistic.head(100)"
   ]
  },
  {
   "cell_type": "code",
   "execution_count": 11,
   "id": "c4d1ca7d-b021-43f5-9e6e-44a033177b91",
   "metadata": {},
   "outputs": [
    {
     "data": {
      "text/plain": [
       "country           0\n",
       "year              0\n",
       "sex               0\n",
       "age               0\n",
       "suicides_no       0\n",
       "population     3768\n",
       "dtype: int64"
      ]
     },
     "execution_count": 11,
     "metadata": {},
     "output_type": "execute_result"
    }
   ],
   "source": [
    "suicide_statistic.isnull().sum()"
   ]
  },
  {
   "cell_type": "code",
   "execution_count": 16,
   "id": "eeb5ae35-874b-45e0-b576-58f4d5dbf2a1",
   "metadata": {},
   "outputs": [],
   "source": [
    "suicide_statistic['population'] = suicide_statistic.groupby(['country', 'sex'])['population'].transform(\n",
    "    lambda x: x.fillna(x.mean())\n",
    ")"
   ]
  },
  {
   "cell_type": "code",
   "execution_count": 19,
   "id": "9850c567-d77a-433b-901f-a11a118858fe",
   "metadata": {},
   "outputs": [
    {
     "data": {
      "text/plain": [
       "3768"
      ]
     },
     "execution_count": 19,
     "metadata": {},
     "output_type": "execute_result"
    }
   ],
   "source": [
    "suicide_statistic['population'].isnull().sum()"
   ]
  },
  {
   "cell_type": "code",
   "execution_count": 20,
   "id": "aa445e5d-451c-465b-80dc-db888e9bcd39",
   "metadata": {},
   "outputs": [],
   "source": [
    "import seaborn as sns"
   ]
  },
  {
   "cell_type": "code",
   "execution_count": 26,
   "id": "98607caf-7064-467e-ba32-bc50137fd84d",
   "metadata": {},
   "outputs": [
    {
     "data": {
      "image/png": "[encoded data removed]",
      "text/plain": [
       "<Figure size 1400x600 with 1 Axes>"
      ]
     },
     "metadata": {},
     "output_type": "display_data"
    }
   ],
   "source": [
    "missing_by_country = suicide_statistic[suicide_statistic['population'].isnull()]['country'].value_counts()\n",
    "\n",
    "missing_by_country.plot(kind='bar', figsize=(14, 6), color='tomato')\n",
    "plt.title('Valores ausentes em \"population\" por país')\n",
    "plt.ylabel('Quantidade de valores nulos')\n",
    "plt.xlabel('País')\n",
    "plt.xticks(rotation=90)\n",
    "plt.tight_layout()\n",
    "plt.show()"
   ]
  },
  {
   "cell_type": "code",
   "execution_count": 33,
   "id": "6ad827b9-41cd-4824-9d88-f8aa431c196c",
   "metadata": {},
   "outputs": [],
   "source": [
    "pop_country_mean = suicide_statistic.groupby('country')['population'].mean()"
   ]
  },
  {
   "cell_type": "code",
   "execution_count": 34,
   "id": "72b52349-0b0c-404f-a056-df5897aaa5a5",
   "metadata": {},
   "outputs": [],
   "source": [
    "suicide_statistic['population'] = suicide_statistic.apply(\n",
    "    lambda row: pop_country_mean[row['country']] if pd.isnull(row['population']) else row['population'],\n",
    "    axis=1\n",
    ")"
   ]
  },
  {
   "cell_type": "code",
   "execution_count": 35,
   "id": "e574b2f0-a093-4b2e-8b66-7d1f078ecbf2",
   "metadata": {},
   "outputs": [
    {
     "data": {
      "text/plain": [
       "3768"
      ]
     },
     "execution_count": 35,
     "metadata": {},
     "output_type": "execute_result"
    }
   ],
   "source": [
    "suicide_statistic['population'].isnull().sum()"
   ]
  },
  {
   "cell_type": "code",
   "execution_count": 36,
   "id": "a5d0f80b-4ad6-4159-8e6e-c1ebbcd9a002",
   "metadata": {},
   "outputs": [
    {
     "data": {
      "text/plain": [
       "nan"
      ]
     },
     "execution_count": 36,
     "metadata": {},
     "output_type": "execute_result"
    }
   ],
   "source": [
    "pop_country_mean['Dominican Republic']"
   ]
  },
  {
   "cell_type": "code",
   "execution_count": 40,
   "id": "dd570bb8-4001-4e48-b657-35406cada73a",
   "metadata": {},
   "outputs": [
    {
     "data": {
      "text/plain": [
       "country\n",
       "Anguilla                         NaN\n",
       "Bolivia                          NaN\n",
       "British Virgin Islands           NaN\n",
       "Dominican Republic               NaN\n",
       "Falkland Islands (Malvinas)      NaN\n",
       "Haiti                            NaN\n",
       "Honduras                         NaN\n",
       "Iraq                             NaN\n",
       "Jordan                           NaN\n",
       "Malaysia                         NaN\n",
       "Monaco                           NaN\n",
       "Montserrat                       NaN\n",
       "Morocco                          NaN\n",
       "Netherlands Antilles             NaN\n",
       "Occupied Palestinian Territory   NaN\n",
       "Peru                             NaN\n",
       "Saint Pierre and Miquelon        NaN\n",
       "Saudi Arabia                     NaN\n",
       "Syrian Arab Republic             NaN\n",
       "Tajikistan                       NaN\n",
       "Tunisia                          NaN\n",
       "Turks and Caicos Islands         NaN\n",
       "Zimbabwe                         NaN\n",
       "Name: population, dtype: float64"
      ]
     },
     "execution_count": 40,
     "metadata": {},
     "output_type": "execute_result"
    }
   ],
   "source": [
    "pop_country_mean[pop_country_mean.isnull()]"
   ]
  },
  {
   "cell_type": "code",
   "execution_count": 42,
   "id": "44dcb164-7c5d-48cc-8937-2b0c54ea930f",
   "metadata": {},
   "outputs": [],
   "source": [
    "missing_by_country = suicide_statistic[suicide_statistic['population'].isnull()]['country'].value_counts()"
   ]
  },
  {
   "cell_type": "code",
   "execution_count": 43,
   "id": "2afb1533-9c7f-407a-a064-722457d2916c",
   "metadata": {},
   "outputs": [
    {
     "data": {
      "text/plain": [
       "country\n",
       "Dominican Republic                396\n",
       "Peru                              360\n",
       "Turks and Caicos Islands          360\n",
       "Anguilla                          348\n",
       "British Virgin Islands            336\n",
       "Montserrat                        324\n",
       "Tajikistan                        288\n",
       "Syrian Arab Republic              204\n",
       "Malaysia                          192\n",
       "Netherlands Antilles              168\n",
       "Morocco                           156\n",
       "Honduras                          120\n",
       "Occupied Palestinian Territory    108\n",
       "Haiti                              84\n",
       "Saint Pierre and Miquelon          60\n",
       "Jordan                             60\n",
       "Falkland Islands (Malvinas)        60\n",
       "Bolivia                            48\n",
       "Saudi Arabia                       24\n",
       "Monaco                             24\n",
       "Tunisia                            24\n",
       "Iraq                               12\n",
       "Zimbabwe                           12\n",
       "Name: count, dtype: int64"
      ]
     },
     "execution_count": 43,
     "metadata": {},
     "output_type": "execute_result"
    }
   ],
   "source": [
    "missing_by_country"
   ]
  },
  {
   "cell_type": "code",
   "execution_count": 48,
   "id": "56ba2992-8864-4a5c-b814-d507527a830e",
   "metadata": {},
   "outputs": [],
   "source": [
    "countries_with_all_na = missing_by_country[missing_by_country == len(suicide_statistic[suicide_statistic['country'] == missing_by_country.index[0]])].index"
   ]
  },
  {
   "cell_type": "code",
   "execution_count": 49,
   "id": "df476831-74f5-40f3-bafe-e2de62075828",
   "metadata": {},
   "outputs": [],
   "source": [
    "df_cleaned = suicide_statistic[~suicide_statistic['country'].isin(countries_with_all_na)]\n"
   ]
  },
  {
   "cell_type": "code",
   "execution_count": 50,
   "id": "3635d6b6-863b-4fb9-8f28-43b30d0961ee",
   "metadata": {},
   "outputs": [
    {
     "data": {
      "text/plain": [
       "3372"
      ]
     },
     "execution_count": 50,
     "metadata": {},
     "output_type": "execute_result"
    }
   ],
   "source": [
    "df_cleaned['population'].isnull().sum()"
   ]
  },
  {
   "cell_type": "code",
   "execution_count": 52,
   "id": "68f64da3-f1dc-4247-95d6-558746642570",
   "metadata": {},
   "outputs": [],
   "source": [
    "partial_missing_by_country = suicide_statistic[suicide_statistic['population'].isnull()]['country'].value_counts()"
   ]
  },
  {
   "cell_type": "code",
   "execution_count": 60,
   "id": "3d465447-b8e5-47c9-9fff-9431c794611f",
   "metadata": {},
   "outputs": [
    {
     "data": {
      "text/plain": [
       "country\n",
       "Dominican Republic                396\n",
       "Peru                              360\n",
       "Turks and Caicos Islands          360\n",
       "Anguilla                          348\n",
       "British Virgin Islands            336\n",
       "Montserrat                        324\n",
       "Tajikistan                        288\n",
       "Syrian Arab Republic              204\n",
       "Malaysia                          192\n",
       "Netherlands Antilles              168\n",
       "Morocco                           156\n",
       "Honduras                          120\n",
       "Occupied Palestinian Territory    108\n",
       "Haiti                              84\n",
       "Saint Pierre and Miquelon          60\n",
       "Jordan                             60\n",
       "Falkland Islands (Malvinas)        60\n",
       "Bolivia                            48\n",
       "Saudi Arabia                       24\n",
       "Monaco                             24\n",
       "Tunisia                            24\n",
       "Iraq                               12\n",
       "Zimbabwe                           12\n",
       "Name: count, dtype: int64"
      ]
     },
     "execution_count": 60,
     "metadata": {},
     "output_type": "execute_result"
    }
   ],
   "source": [
    "partial_missing_by_country"
   ]
  },
  {
   "cell_type": "code",
   "execution_count": 62,
   "id": "85d0528e-cf71-4ad5-8363-7fe9e8b9e5d2",
   "metadata": {},
   "outputs": [
    {
     "data": {
      "text/plain": [
       "3372"
      ]
     },
     "execution_count": 62,
     "metadata": {},
     "output_type": "execute_result"
    }
   ],
   "source": [
    "df_cleaned['population'].isnull().sum()"
   ]
  },
  {
   "cell_type": "code",
   "execution_count": 63,
   "id": "4939c5b5-efaa-4062-82d6-08b8a36f7403",
   "metadata": {},
   "outputs": [
    {
     "data": {
      "text/html": [
       "<div>\n",
       "<style scoped>\n",
       "    .dataframe tbody tr th:only-of-type {\n",
       "        vertical-align: middle;\n",
       "    }\n",
       "\n",
       "    .dataframe tbody tr th {\n",
       "        vertical-align: top;\n",
       "    }\n",
       "\n",
       "    .dataframe thead th {\n",
       "        text-align: right;\n",
       "    }\n",
       "</style>\n",
       "<table border=\"1\" class=\"dataframe\">\n",
       "  <thead>\n",
       "    <tr style=\"text-align: right;\">\n",
       "      <th></th>\n",
       "      <th>country</th>\n",
       "      <th>year</th>\n",
       "      <th>sex</th>\n",
       "      <th>age</th>\n",
       "      <th>suicides_no</th>\n",
       "      <th>population</th>\n",
       "    </tr>\n",
       "  </thead>\n",
       "  <tbody>\n",
       "  </tbody>\n",
       "</table>\n",
       "</div>"
      ],
      "text/plain": [
       "Empty DataFrame\n",
       "Columns: [country, year, sex, age, suicides_no, population]\n",
       "Index: []"
      ]
     },
     "execution_count": 63,
     "metadata": {},
     "output_type": "execute_result"
    }
   ],
   "source": [
    "df_cleaned[df_cleaned['country'] == 'Dominican Republic']"
   ]
  },
  {
   "cell_type": "code",
   "execution_count": 64,
   "id": "7e2a3339-f81e-4a1c-b12a-9aa6577301af",
   "metadata": {},
   "outputs": [
    {
     "data": {
      "text/html": [
       "<div>\n",
       "<style scoped>\n",
       "    .dataframe tbody tr th:only-of-type {\n",
       "        vertical-align: middle;\n",
       "    }\n",
       "\n",
       "    .dataframe tbody tr th {\n",
       "        vertical-align: top;\n",
       "    }\n",
       "\n",
       "    .dataframe thead th {\n",
       "        text-align: right;\n",
       "    }\n",
       "</style>\n",
       "<table border=\"1\" class=\"dataframe\">\n",
       "  <thead>\n",
       "    <tr style=\"text-align: right;\">\n",
       "      <th></th>\n",
       "      <th>country</th>\n",
       "      <th>year</th>\n",
       "      <th>sex</th>\n",
       "      <th>age</th>\n",
       "      <th>suicides_no</th>\n",
       "      <th>population</th>\n",
       "    </tr>\n",
       "  </thead>\n",
       "  <tbody>\n",
       "    <tr>\n",
       "      <th>0</th>\n",
       "      <td>Albania</td>\n",
       "      <td>1985</td>\n",
       "      <td>female</td>\n",
       "      <td>15-24 years</td>\n",
       "      <td>11.500000</td>\n",
       "      <td>277900.0</td>\n",
       "    </tr>\n",
       "    <tr>\n",
       "      <th>1</th>\n",
       "      <td>Albania</td>\n",
       "      <td>1985</td>\n",
       "      <td>female</td>\n",
       "      <td>25-34 years</td>\n",
       "      <td>6.318182</td>\n",
       "      <td>246800.0</td>\n",
       "    </tr>\n",
       "    <tr>\n",
       "      <th>2</th>\n",
       "      <td>Albania</td>\n",
       "      <td>1985</td>\n",
       "      <td>female</td>\n",
       "      <td>35-54 years</td>\n",
       "      <td>7.863636</td>\n",
       "      <td>267500.0</td>\n",
       "    </tr>\n",
       "    <tr>\n",
       "      <th>3</th>\n",
       "      <td>Albania</td>\n",
       "      <td>1985</td>\n",
       "      <td>female</td>\n",
       "      <td>5-14 years</td>\n",
       "      <td>0.954545</td>\n",
       "      <td>298300.0</td>\n",
       "    </tr>\n",
       "    <tr>\n",
       "      <th>4</th>\n",
       "      <td>Albania</td>\n",
       "      <td>1985</td>\n",
       "      <td>female</td>\n",
       "      <td>55-74 years</td>\n",
       "      <td>3.090909</td>\n",
       "      <td>138700.0</td>\n",
       "    </tr>\n",
       "  </tbody>\n",
       "</table>\n",
       "</div>"
      ],
      "text/plain": [
       "   country  year     sex          age  suicides_no  population\n",
       "0  Albania  1985  female  15-24 years    11.500000    277900.0\n",
       "1  Albania  1985  female  25-34 years     6.318182    246800.0\n",
       "2  Albania  1985  female  35-54 years     7.863636    267500.0\n",
       "3  Albania  1985  female   5-14 years     0.954545    298300.0\n",
       "4  Albania  1985  female  55-74 years     3.090909    138700.0"
      ]
     },
     "execution_count": 64,
     "metadata": {},
     "output_type": "execute_result"
    }
   ],
   "source": [
    "df_cleaned.head()"
   ]
  },
  {
   "cell_type": "code",
   "execution_count": 67,
   "id": "72f3ac94-6258-40be-879e-91c3cb69b5da",
   "metadata": {},
   "outputs": [],
   "source": [
    "df_cleaned = df_cleaned[df_cleaned['population'].notnull()]"
   ]
  },
  {
   "cell_type": "code",
   "execution_count": 68,
   "id": "4db52369-1065-448e-860a-729822c9c5b1",
   "metadata": {},
   "outputs": [
    {
     "data": {
      "text/plain": [
       "0"
      ]
     },
     "execution_count": 68,
     "metadata": {},
     "output_type": "execute_result"
    }
   ],
   "source": [
    "df_cleaned['population'].isnull().sum()"
   ]
  },
  {
   "cell_type": "code",
   "execution_count": 69,
   "id": "eda76690-cb62-4469-bd39-ae809f3ece68",
   "metadata": {},
   "outputs": [],
   "source": [
    "df_cleaned.to_csv('dados/suicide_statistic_limpo_corrigido.csv', index=False)"
   ]
  },
  {
   "cell_type": "code",
   "execution_count": null,
   "id": "e1c3a9d0-7b70-411c-ba85-1cb705a64a29",
   "metadata": {},
   "outputs": [],
   "source": []
  }
 ],
 "metadata": {
  "kernelspec": {
   "display_name": "Python 3 (ipykernel)",
   "language": "python",
   "name": "python3"
  },
  "language_info": {
   "codemirror_mode": {
    "name": "ipython",
    "version": 3
   },
   "file_extension": ".py",
   "mimetype": "text/x-python",
   "name": "python",
   "nbconvert_exporter": "python",
   "pygments_lexer": "ipython3",
   "version": "3.12.4"
  }
 },
 "nbformat": 4,
 "nbformat_minor": 5
}
